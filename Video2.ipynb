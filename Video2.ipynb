{
 "cells": [
  {
   "cell_type": "code",
   "execution_count": 1,
   "id": "39cd2d7c-0ac6-4afe-93b9-27ff659f16b5",
   "metadata": {},
   "outputs": [],
   "source": [
    "import cv2\n",
    "import face_recognition"
   ]
  },
  {
   "cell_type": "code",
   "execution_count": 2,
   "id": "e012801d-9ee2-4c54-adb9-9d647e332cd4",
   "metadata": {},
   "outputs": [],
   "source": [
    "#capture the video from default camera \n",
    "file_video_stream = cv2.VideoCapture('sarah_david.mp4')"
   ]
  },
  {
   "cell_type": "code",
   "execution_count": 3,
   "id": "74324fbc-318e-4ca3-a25e-9ce799a3f616",
   "metadata": {},
   "outputs": [],
   "source": [
    "#load the sample images and get the 128 face embeddings from them\n",
    "sarah_image = face_recognition.load_image_file('sarah.png')\n",
    "sarah_face_encodings = face_recognition.face_encodings(sarah_image)[0]\n",
    "\n",
    "david_image = face_recognition.load_image_file('david.png')\n",
    "david_face_encodings = face_recognition.face_encodings(david_image)[0]"
   ]
  },
  {
   "cell_type": "code",
   "execution_count": 4,
   "id": "d84a9f2d-9545-40d7-b695-783f5461d975",
   "metadata": {},
   "outputs": [],
   "source": [
    "#save the encodings and the corresponding labels in seperate arrays in the same order\n",
    "known_face_encodings = [sarah_face_encodings, david_face_encodings]\n",
    "known_face_names = [\"Sarah Johnson - youtuber\", \n",
    "                    \"David Andrew Jephcott - youtuber\"]"
   ]
  },
  {
   "cell_type": "code",
   "execution_count": 5,
   "id": "23c757a3-8b1d-4bca-a4f8-e5d714afedfd",
   "metadata": {},
   "outputs": [],
   "source": [
    "#initialize the array variable to hold all face locations, encodings and names \n",
    "all_face_locations = []\n",
    "all_face_encodings = []\n",
    "all_face_names = []"
   ]
  },
  {
   "cell_type": "code",
   "execution_count": null,
   "id": "807b1c77-dc73-4d4a-b948-8197ee15fb60",
   "metadata": {},
   "outputs": [],
   "source": [
    "#loop through every frame in the video\n",
    "while (file_video_stream.isOpened):\n",
    "    #get the current frame from the video stream as an image\n",
    "    ret,current_frame = file_video_stream.read()\n",
    "    #resize the current frame to 1/4 size to proces faster\n",
    "    current_frame_small = cv2.resize(current_frame,(0,0),fx=0.25,fy=0.25)\n",
    "    #detect all faces in the image\n",
    "    #arguments are image,no_of_times_to_upsample, model\n",
    "    all_face_locations = face_recognition.face_locations(current_frame_small,number_of_times_to_upsample=1,model='hog')\n",
    "    \n",
    "    #detect face encodings for all the faces detected\n",
    "    all_face_encodings = face_recognition.face_encodings(current_frame_small,all_face_locations)\n",
    "\n",
    "\n",
    "    #looping through the face locations and the face embeddings\n",
    "    for current_face_location,current_face_encoding in zip(all_face_locations,all_face_encodings):\n",
    "        #splitting the tuple to get the four position values of current face\n",
    "        top_pos,right_pos,bottom_pos,left_pos = current_face_location\n",
    "        \n",
    "        #change the position maginitude to fit the actual size video frame\n",
    "        top_pos = top_pos*4\n",
    "        right_pos = right_pos*4\n",
    "        bottom_pos = bottom_pos*4\n",
    "        left_pos = left_pos*4\n",
    "        \n",
    "        #find all the matches and get the list of matches\n",
    "        all_matches = face_recognition.compare_faces(known_face_encodings, current_face_encoding)\n",
    "       \n",
    "        #string to hold the label\n",
    "        name_of_person = 'Unknown face'\n",
    "        \n",
    "        #check if the all_matches have at least one item\n",
    "        #if yes, get the index number of face that is located in the first index of all_matches\n",
    "        #get the name corresponding to the index number and save it in name_of_person\n",
    "        if True in all_matches:\n",
    "            first_match_index = all_matches.index(True)\n",
    "            name_of_person = known_face_names[first_match_index]\n",
    "        \n",
    "        #draw rectangle around the face    \n",
    "        cv2.rectangle(current_frame,(left_pos,top_pos),(right_pos,bottom_pos),(255,0,0),2)\n",
    "        \n",
    "        #display the name as text in the image\n",
    "        font = cv2.FONT_HERSHEY_DUPLEX\n",
    "        cv2.putText(current_frame, name_of_person, (left_pos,bottom_pos), font, 0.5, (255,255,255),1)\n",
    "    \n",
    "    #display the video\n",
    "    cv2.imshow(\"Webcam Video\",current_frame)\n",
    "    \n",
    "    if cv2.waitKey(1) & 0xFF == ord('q'):\n",
    "        break"
   ]
  },
  {
   "cell_type": "code",
   "execution_count": null,
   "id": "0aca8d01-30ef-4e83-8798-c51b7714ec9d",
   "metadata": {},
   "outputs": [],
   "source": [
    "#release the stream and cam\n",
    "#close all opencv windows open\n",
    "file_video_stream.release()\n",
    "cv2.destroyAllWindows()    "
   ]
  },
  {
   "cell_type": "code",
   "execution_count": null,
   "id": "e7ef438a-0c75-4bb9-91ac-52b501320fc2",
   "metadata": {},
   "outputs": [],
   "source": []
  }
 ],
 "metadata": {
  "kernelspec": {
   "display_name": "Python 3 (ipykernel)",
   "language": "python",
   "name": "python3"
  },
  "language_info": {
   "codemirror_mode": {
    "name": "ipython",
    "version": 3
   },
   "file_extension": ".py",
   "mimetype": "text/x-python",
   "name": "python",
   "nbconvert_exporter": "python",
   "pygments_lexer": "ipython3",
   "version": "3.9.10"
  }
 },
 "nbformat": 4,
 "nbformat_minor": 5
}
